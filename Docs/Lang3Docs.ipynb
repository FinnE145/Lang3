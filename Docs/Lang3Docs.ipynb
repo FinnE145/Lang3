{
 "cells": [
  {
   "cell_type": "markdown",
   "metadata": {},
   "source": [
    "# Lang 3 Docs"
   ]
  },
  {
   "cell_type": "markdown",
   "metadata": {},
   "source": [
    "# Basics"
   ]
  },
  {
   "cell_type": "markdown",
   "metadata": {},
   "source": [
    "The `Basics` section describes basic usage and syntax of many commonly used aspects of Lang3, and is more like a tutorial. For more advanced information, like properties and descriptions of some symbols and features, look for the appropriate section later in the docs. Here is a helpful, but not necessarily complete, guide to which Docs section expands upon each Basics section:\n",
    "\n",
    "| Basics Section (`/Docs/Basics/*`) | Docs Section (`/Docs/*`)  |\n",
    "|-----------------------------------|---------------------------|\n",
    "| `Comments`                        | No Equivalent             |\n",
    "| `Output`                          | `Modules > IO > Out`      |\n",
    "| `Variables`                       | `Objects`                 |\n",
    "| `Code Blocks and Functions`       | `Data Types > Code Block` |"
   ]
  },
  {
   "cell_type": "markdown",
   "metadata": {},
   "source": [
    "## Comments"
   ]
  },
  {
   "cell_type": "markdown",
   "metadata": {},
   "source": [
    "Comments are sections of code that do not run and have no functional effects.\n",
    "They are used for documentation, notes, and sometimes temporarily removing code from being run.\n",
    "\n",
    "In Lang3, line comments, or comments that continue to the end of the line, start with a single hashtag `#`.\n",
    "Block comments, or comments that can be multiple lines long and must be explicitly ended, start and end with multiple hashtags.\n",
    "\n",
    "Examples:"
   ]
  },
  {
   "cell_type": "code",
   "execution_count": null,
   "metadata": {},
   "outputs": [],
   "source": [
    "io.out(\"This is some valid code that will run\")\n",
    "# This is a comment, it does nothing\n",
    "io.out(\"Note that the comment above ends at the end of the line\")\n",
    "## This is a block comment\n",
    "It can be multiple lines long\n",
    "It must be ended with two or more hashes ##\n",
    "io.out(1 + 2 ## Note that block comments can be put in the middle of functional code ##+ 3)"
   ]
  },
  {
   "cell_type": "markdown",
   "metadata": {},
   "source": [
    "Lang3 comments have various stylistic options that do nothing, but can make code more clear and are reccomended for use. They include:\n",
    "- `>` after a comment hash denotes that the comment is expected output, up until a semicolon or another hash\n",
    "- Colons `:;` in a comment denote code, in the same way that backticks ` `` ` denote code in markdown\n",
    "- An exclamation mark `!` in a comment denotes an error, and a colon somewhere in the text following an exclamation mark will be ignored, up until a semicolon, newline, or hash\n",
    "\n",
    "Like many symbols in Lang3, special symbols in comments can be escaped with a backslash `\\` to ignore their significant meaning.\n",
    "\n",
    "Examples:"
   ]
  },
  {
   "cell_type": "code",
   "execution_count": null,
   "metadata": {},
   "outputs": [],
   "source": [
    "1 + 2       #> 3; Until the semicolon, this comment showed the output of this line\n",
    "int x = 1   # This line demonstrates code in comments by assigning the value :1; to the variable :x;, with type :int;\n",
    "\"abc\" + 1   #! TypeError: cannot add objects of type 'str' and 'int'; Before the semicolon, this comment showed an error and error message\n",
    "#\\! This is not an error, just a random exclamation mark in a comment, due to the backslash before the exclamation mark"
   ]
  },
  {
   "cell_type": "markdown",
   "metadata": {},
   "source": [
    "## Output (Printing to Console)"
   ]
  },
  {
   "cell_type": "markdown",
   "metadata": {},
   "source": [
    "Values can be shown in the console with the `io.out` function. This means that `out` is a method of the `io` module (learn more about modules at the top of `Modules` and learn about the `io` module under `Modules > IO`)."
   ]
  },
  {
   "cell_type": "code",
   "execution_count": null,
   "metadata": {},
   "outputs": [],
   "source": [
    "io.out(\"Hello world\")   # Print :\"Hello world\"; to the console\n",
    "io.out(1)               # Print :1; to the console"
   ]
  },
  {
   "cell_type": "markdown",
   "metadata": {},
   "source": [
    "By default, outputting multiple objects will show them seperated by spaces. You can change this by explicitly passing a string to the `sep` parameter."
   ]
  },
  {
   "cell_type": "code",
   "execution_count": null,
   "metadata": {},
   "outputs": [],
   "source": [
    "io.out(1, 2, 3)             #> 1, 2, 3\n",
    "io.out(1, 2, 3, sep=\"|\")    #> 1|2|3"
   ]
  },
  {
   "cell_type": "markdown",
   "metadata": {},
   "source": [
    "By default, outputting ends with a new line. You can change this by explicitly passing a string to the `end` parameter"
   ]
  },
  {
   "cell_type": "code",
   "execution_count": null,
   "metadata": {},
   "outputs": [],
   "source": [
    "io.out(1, 2, 3)\n",
    "io.out(4, 5, 6)\n",
    "##>\n",
    "1 2 3\n",
    "4 5 6\n",
    "##\n",
    "\n",
    "io.out(1, 2, 3, end=\"|\")\n",
    "io.out(4, 5, 6)\n",
    "##>\n",
    "1 2 3|4 5 6\n",
    "##"
   ]
  },
  {
   "cell_type": "markdown",
   "metadata": {},
   "source": [
    "For more information on outputting and the `io.out` function, look at `Modules > IO > Methods > out`"
   ]
  },
  {
   "cell_type": "markdown",
   "metadata": {},
   "source": [
    "## Variables"
   ]
  },
  {
   "cell_type": "markdown",
   "metadata": {},
   "source": [
    "A variable is an identifier given to a particular value. In Lang3, variables can also have properties and act as larger objects (For more information, see `Objects`).\n",
    "\n",
    "Declaring a variable consists of specifying a data type, name, and an optional value.\n",
    "Lang3 may be able to infer the type if the variable is assigned in the same line as it is declared.\n",
    "\n",
    "Examples:"
   ]
  },
  {
   "cell_type": "code",
   "execution_count": null,
   "metadata": {},
   "outputs": [],
   "source": [
    "int w = 1       # A variable is declared and assigned with a type, name, and value\n",
    "\n",
    "int x =         # This variable has been declared, but by not specifying a value it is not assigned\n",
    "int x = ?       # Declaration without assignment can also be done with the \"blank\" symbol. You can find out more about it in the `Symbols` section\n",
    "io.out(x)       #! ValueError: x does not have a value; A variable declared but not assigned cannot have its value accessed\n",
    "\n",
    "y = 2           # This variable does not have a type explicitly specified because it can be inferred from the value\n",
    "type(y)         #: int\n",
    "\n",
    "z = y           # This variable also does not have a type explicitly specified, but can infer from y's type"
   ]
  },
  {
   "cell_type": "markdown",
   "metadata": {},
   "source": [
    "Using a variable is as easy as writing it's name in an expression.\n",
    "\n",
    "Examples:"
   ]
  },
  {
   "cell_type": "code",
   "execution_count": null,
   "metadata": {},
   "outputs": [],
   "source": [
    "int a = 1\n",
    "int b = 2\n",
    "\n",
    "io.out(a + 1)   #: 2\n",
    "io.out(a + b)   #: 3\n",
    "\n",
    "int c = i + 1   #! UndefinedError: :i; has not been declared"
   ]
  },
  {
   "cell_type": "markdown",
   "metadata": {},
   "source": [
    "## Code Blocks and Functions"
   ]
  },
  {
   "cell_type": "markdown",
   "metadata": {},
   "source": [
    "### Code Blocks"
   ]
  },
  {
   "cell_type": "markdown",
   "metadata": {},
   "source": [
    "Code blocks are objects that hold other code. They are enclosed by colons `:;`.\n",
    "\n",
    "Examples:"
   ]
  },
  {
   "cell_type": "code",
   "execution_count": null,
   "metadata": {},
   "outputs": [],
   "source": [
    "code c1 = :io.out(\"This is in a code block\");\n",
    "\n",
    "code c2 = :\n",
    "    io.out(\"Code blocks can be multiline...\")\n",
    "    io.out(\"...and can contain multiple statements\")\n",
    ";\n",
    "\n",
    "code c3 = :\n",
    "    \"Code blocks can also contain\" + \"just an expression\"\n",
    ";\n",
    "\n",
    "code c4 = :\n",
    "    io.out(\"Note that this code will not be run, it is simply being assigned to a variable\")\n",
    ";"
   ]
  },
  {
   "cell_type": "markdown",
   "metadata": {},
   "source": [
    "### Functions"
   ]
  },
  {
   "cell_type": "markdown",
   "metadata": {},
   "source": [
    "Functions are a concept in many languages, where code can be assigned a name and run multiple times, with different values assigned to variables in the code called parameters. In Lang3, functions consist of a code block that can be \"called\", optionally with arguments passed to parameters.\n",
    "\n",
    "To call a code block/function, add parenteses `()` after the code block or a `code` type variable, with optional argument values inside.\n",
    "\n",
    "Examples:"
   ]
  },
  {
   "cell_type": "code",
   "execution_count": null,
   "metadata": {},
   "outputs": [],
   "source": [
    ": io.out(\"This code block is being run directly\") ;()     #> This code block is being run directly\n",
    "#> This code block is being run directly\n",
    "\n",
    "code f = :\n",
    "    io.out(\"This is a function\").\n",
    "    io.out(\"It will not be run immediately, but can be called later\")\n",
    ";\n",
    "\n",
    "f()         # This calls the function\n",
    "##>\n",
    "This is a function\n",
    "It will not be run immediately, but can be called later\n",
    "##"
   ]
  },
  {
   "cell_type": "markdown",
   "metadata": {},
   "source": [
    "#### Parameters and Arguments"
   ]
  },
  {
   "cell_type": "markdown",
   "metadata": {},
   "source": [
    "To assign parameter variables to a function, declare variables (without the equal sign) inside square brackets `[]` in front of the code block or `code` type variable. Those variables can then be used inside the code block.\n",
    "The desired value of parameter variables, called arguments, must be passed inside the parentheses when a function is called.\n",
    "\n",
    "Examples:"
   ]
  },
  {
   "cell_type": "code",
   "execution_count": null,
   "metadata": {},
   "outputs": [],
   "source": [
    "code printAValue = [x]:     # This parameter has no type, and will infer from what is passed\n",
    "    # This code block outputs the value of x\n",
    "    io.out(x)\n",
    ";\n",
    "\n",
    "printAValue(1)      #> 1\n",
    "\n",
    "code add = [num x, num y]:  # These parameters have types, and will only accept numbers\n",
    "    # This code block outputs the sum of x and y\n",
    "    io.out(x + y)\n",
    ";\n",
    "\n",
    "add(1, 2)           #> 3\n",
    "add(\"apple\", \"banana\")      #! TypeError: :x; must be an instance of num, not str\n",
    "\n",
    "[a, b]: a - b ;(3, 2)       #> 1; Code blocks can also be called directly with parameters and arguments\n",
    "\n",
    "code func = :\n",
    "    io.out(\"The value of a is: {a}\")\n",
    "    io.out(\"The value of b is: {b}\")\n",
    ";\n",
    "\n",
    "[str a, str b]func(\"apple\", \"banana\")   # Code blocks can have their parameters added after initial declaration\n",
    "\n",
    "code multiply = :\n",
    "    io.out(\"The product of a and b is: {a * b}\")\n",
    ";\n",
    "\n",
    "multiply = [num a, num b]multiply   # Code blocks can be reassigned to themselves with parameters\n",
    "\n",
    "multiply(2, 5)                      #> The product of a and b is: 10"
   ]
  },
  {
   "cell_type": "markdown",
   "metadata": {},
   "source": [
    "If parameters are not passed before the code block is called, an `UndefinedError` will occur. If the wrong number or type of arguments are passed, an `ArgumentError` will occur.\n",
    "\n",
    "Examples:"
   ]
  },
  {
   "cell_type": "markdown",
   "metadata": {},
   "source": [
    "### Creating Traditional Classes"
   ]
  },
  {
   "cell_type": "markdown",
   "metadata": {},
   "source": [
    "While classes as a distinct concept do not exist in lang3, they can be created with full functionality."
   ]
  },
  {
   "cell_type": "markdown",
   "metadata": {},
   "source": [
    "##### Example in Java:"
   ]
  },
  {
   "cell_type": "markdown",
   "metadata": {},
   "source": [
    "```java\n",
    "class A {                   // Declare the class\n",
    "    int x;                  // Declare an instance variable\n",
    "\n",
    "    public A(int n) {       // Declare the constructor\n",
    "        this.x = n;            // Initialize the instance variable with the parameter value\n",
    "    }\n",
    "\n",
    "    public int addTwo() {   // Declare a method\n",
    "        return this.x + 2;     // Access the instance variable and return a value\n",
    "    }\n",
    "}\n",
    "\n",
    "A a = new A(1);             // Declare and initialize an instance of the class\n",
    "a.addTwo();                 // Call a method on that instance\n",
    "```"
   ]
  },
  {
   "cell_type": "markdown",
   "metadata": {},
   "source": [
    "##### Equivalent in Lang3:"
   ]
  },
  {
   "cell_type": "code",
   "execution_count": null,
   "metadata": {},
   "outputs": [],
   "source": [
    "A = [n]:                    # Create the variable A and assign a function code block to it as its constructor\n",
    "    inst $                    # Use the :inst; keyword to duplicate the current object...\n",
    "                                # (previously accessible from :$;) and assign the new object's object reference to :$;\n",
    "    $.x = n                   # Declare and initialize a property with the parameter value\n",
    "    return $                  # Return the object\n",
    ";\n",
    "# POINT 1\n",
    "$A.addTwo = [n]:$.x + 2;    # Add a method to A as an object, not the code block (A's value)\n",
    "# POINT 2\n",
    "\n",
    "a = A(1)\n",
    "a.addTwo()"
   ]
  },
  {
   "cell_type": "markdown",
   "metadata": {},
   "source": [
    "> Note that in the value-object system, all classes with a constructor have their value set to a code block, meaning that they can be run as functions which return the object themselves\n",
    "\n",
    "> Also note how the object's type changes:\\\n",
    ">   At `POINT 1`, these are the types of A as a value and as an object"
   ]
  },
  {
   "cell_type": "code",
   "execution_count": null,
   "metadata": {},
   "outputs": [],
   "source": [
    "type(A)                     #: code ; A code block is assigned to :A;\n",
    "type($A)                    #: code ; The object infers its type from its value when not otherwise stated"
   ]
  },
  {
   "cell_type": "markdown",
   "metadata": {},
   "source": [
    ">   At `POINT 2`, these are those same types:"
   ]
  },
  {
   "cell_type": "code",
   "execution_count": null,
   "metadata": {},
   "outputs": [],
   "source": [
    "type(A)                     #: code ; The code block value is unchanged\n",
    "type($A)                    #: _A   ; The object A is now different from the code block type, and became it's own type"
   ]
  },
  {
   "cell_type": "code",
   "execution_count": null,
   "metadata": {},
   "outputs": [],
   "source": [
    "code add = :\n",
    "    io.out(x + y)\n",
    ";\n",
    "\n",
    "add(1, 2)       #! UndefinedError: :x; has not been declared\n",
    "add = [num x, num y]add\n",
    "add(1, 2)       #> 3\n",
    "\n",
    "add(1)          #! ArgumentError: :add; requires 2 arguments, but 1 was given\n",
    "add(1, 2, 3)    #! ArgumentError: :add; requires 2 arguments, but 3 were given"
   ]
  },
  {
   "cell_type": "markdown",
   "metadata": {},
   "source": [
    "An unlimited number of arguments can be passed, and accessed as a sequence inside the code block. To accept them, make a sequence parameter, with an arrow `->` in front of it. This shows that the arguments passed should be \"condensed\" into the sequence variable. (For more on the arrow symbol and expansion/condensation, see `Operators > Other Operators > Expansion/Condensation`)\n",
    "\n",
    "Examples:"
   ]
  },
  {
   "cell_type": "code",
   "execution_count": null,
   "metadata": {},
   "outputs": [],
   "source": [
    "code add = [-> num[] args]:\n",
    "    num sum = 0\n",
    "\n",
    "    for args -> num, :  # Learn more about loops in `Control Structures > Loops`\n",
    "        sum += num\n",
    "    ;\n",
    "\n",
    "    io.out(sum)\n",
    ";\n",
    "\n",
    "add(1, 2, 3)    #> 6\n",
    "add(1)          #> 1\n",
    "add()           #> 0; The :args; parameter is an empty sequence"
   ]
  },
  {
   "cell_type": "markdown",
   "metadata": {},
   "source": [
    "#### Overloading"
   ]
  },
  {
   "cell_type": "markdown",
   "metadata": {},
   "source": [
    "Overloading is when the same function can have different parameters and code that runs. Different overloads for a function are generally supposed to accomplish the same thing and have the same return types, but can accept different parameters.\n",
    "\n",
    "In Lang3, functions are overloaded by creating a `sequence` of code blocks. When that sequence is called, the first code block with matching parameters is run. If no parameters match, an `ArgumentError` will be raised.\n",
    "\n",
    "> Note that if it were **not** a sequence of functions, a `TypeError` would be called if one or more of the arguments are of the wrong type, but the right number were passed. When a function is overloaded (a sequence of functions), arguments of the wrong type that do not match any parameters will raise an `ArgumentError`."
   ]
  },
  {
   "cell_type": "code",
   "execution_count": null,
   "metadata": {},
   "outputs": [],
   "source": [
    "code[] add = [num a, num b]:\n",
    "    io.out(\"The sum of {a} and {b} is {a + b}\")\n",
    ";,\n",
    "[str a, str b]:\n",
    "    io.out(\"When you concatonate {a} and {b}, you get {a + b}\")\n",
    ";,\n",
    "[seq a, seq b]:\n",
    "    io.out(\"When you combine {a} and {b}, you get {a + b}\")\n",
    ";\n",
    "\n",
    "add(1, 2)                   #> The sum of 1 and 2 is 3\n",
    "add(\"apple\", \"banana\")      #> When you concatonate apple and banana, you get applebanana\n",
    "add([1, 2], [3, 4])         #> When you combine [1, 2] and [3, 4], you get [1, 2, 3, 4]\n",
    "\n",
    "add(4, 5, 6)                #! ArgumentError: no overloads of :add; match the arguments [num, num, num]\n",
    "add(1, \"apple\")             #! ArgumentError: no overloads of :add; match the arguments [num, str]"
   ]
  },
  {
   "cell_type": "markdown",
   "metadata": {},
   "source": [
    "Overloads should differ in type, number, or order of differently-typed arguments. If two overloads have the same parameters, the first will be called when appropriate arguments are passed.\n",
    "\n",
    "A particular function within a code block sequence can be called via indexing, like any sequence."
   ]
  },
  {
   "cell_type": "code",
   "execution_count": null,
   "metadata": {},
   "outputs": [],
   "source": [
    "code[] add = [num a, num b]:\n",
    "    io.out(\"The sum of {a} and {b} is {a + b}\")\n",
    ";,\n",
    "[num a, num b, num c]:\n",
    "    io.out(\"The sum of {a}, {b}, and {c} is {a + b + c}\")\n",
    ";,\n",
    "[num a, num b]:\n",
    "    io.out(\"This is another function that adds {a} and {b}\")\n",
    ";\n",
    "\n",
    "add(1, 2)       #> The sum of 1 and 2 is 3\n",
    "add[2](1, 2)    #> This is another function that adds 1 and 2"
   ]
  },
  {
   "cell_type": "markdown",
   "metadata": {},
   "source": [
    "# Data Types"
   ]
  },
  {
   "cell_type": "markdown",
   "metadata": {},
   "source": [
    "Every data type has a singular and sequence form. The singular form contains one object of that data type, while sequences contain multiple objects of that data type. Sequences of a particular type may have methods and properties that differ from the singular data type, and may have different behaviors when used in an operator."
   ]
  },
  {
   "cell_type": "markdown",
   "metadata": {},
   "source": [
    "### Sequences\n",
    "\n",
    "> Lang3 `sequence`s are similar to what some other languages call `Array`s\n",
    "\n",
    "`sequence`s are special data types that can be created from any other data type. Sequence data types are specified with a singular type followed by square brackets `[]`. Inside the brackets is an optional number literal specifying the maximum number of objects in that sequence."
   ]
  },
  {
   "cell_type": "code",
   "execution_count": null,
   "metadata": {},
   "outputs": [],
   "source": [
    "num[]   # An unlimited-length sequence of :num; objects (for more information on :num;, see below)\n",
    "num[3]  # A sequence of up to 3 :num; objects"
   ]
  },
  {
   "cell_type": "markdown",
   "metadata": {},
   "source": [
    "A sequence literal consists of multiple values seperated by commas. If enclosed in square brackets, it becomes a `list`, a subtype of `seq`.\n",
    "\n",
    "This means that arguments passed to a function are actually a sequence in parentheses! More on this can be found in `Data Types > Functions`"
   ]
  },
  {
   "cell_type": "code",
   "execution_count": null,
   "metadata": {},
   "outputs": [],
   "source": [
    "num[] a = 1, 2, 3"
   ]
  },
  {
   "cell_type": "markdown",
   "metadata": {},
   "source": [
    "## Builtin Data Types"
   ]
  },
  {
   "cell_type": "markdown",
   "metadata": {},
   "source": [
    "### Number (`num`)"
   ]
  },
  {
   "cell_type": "markdown",
   "metadata": {},
   "source": [
    "The `num` datatype represents both integer/whole numbers and decimals. It can be inferred from literals like `1`, `12.34` and `0.1`.\n",
    "\n",
    "#### Methods"
   ]
  },
  {
   "cell_type": "markdown",
   "metadata": {},
   "source": [
    "**`round` - Rounds to the nearest multiple of a number**\n",
    "\n",
    "> <u>Params</u>:\n",
    "> - `num n`: Round to the nearest multiple of this number\n",
    "> - `?str mode` [*OPTIONAL*]: The rounding mode to use. Possible values are:\n",
    ">   - `=\"nearest\"|\"n\"` [*DEFAULT*]: When the number is halfway between two multiples, round up if it's even and down if it's odd\n",
    ">   - `\"nearest-up\"|\"nu\"`: If the number is exactly halfway between two multiples, round up\n",
    ">   - `\"nearest-down\"|\"nd\"`: If the number is exactly halfway between two multiples, round down\n",
    ">   - `\"up\"|\"u\"`: Always round up\n",
    ">   - `\"down\"|\"d\"`: Always round down\n",
    ">\n",
    "> <u>Returns</u>:\n",
    "> - `num`: The rounded number\n",
    "\n",
    "Example usage:"
   ]
  },
  {
   "cell_type": "code",
   "execution_count": null,
   "metadata": {},
   "outputs": [],
   "source": [
    "(34).round(3)           #: 33 ; The closest multiple of 3 to 34 is 33\n",
    "(35).round(3)           #: 36 ; The closest multiple of 3 to 35 is 36\n",
    "(35).round(3, \"d\")      #: 33 ; Round down to 33 because of the rounding mode argument\n",
    "\n",
    "(1.2345).round(0.01)    #: 1.23\n",
    "(1.2345).round(0.05)    #: 1.2"
   ]
  },
  {
   "cell_type": "markdown",
   "metadata": {},
   "source": [
    "**`roundToPlaces` - Rounds to a certain number of decimal places**\n",
    "\n",
    "> <u>Params</u>:\n",
    "> - `num p`: Round to this many decimal places\n",
    "> - `?str mode` [*OPTIONAL*]: The rounding mode to use. Same possible values as `round`.\n",
    ">\n",
    "> <u>Returns</u>:\n",
    "> - `num`: The rounded number\n",
    "\n",
    "Example Usage:"
   ]
  },
  {
   "cell_type": "code",
   "execution_count": null,
   "metadata": {},
   "outputs": [],
   "source": [
    "(1.234).roundToPlaces(2)                    #: 1.23 ;\n",
    "(1.5).roundToPlaces(0)                      #: 1.0 ; Round down because .5 is halfway, and 1.5 is odd\n",
    "(1.55).roundToPlaces(1, \"nu\")               #: 1.6 ; Round up even though 1.55 is odd, due to the rounding mode argument"
   ]
  },
  {
   "cell_type": "markdown",
   "metadata": {},
   "source": [
    "# Objects and Types"
   ]
  },
  {
   "cell_type": "markdown",
   "metadata": {},
   "source": [
    "## Modifying Types"
   ]
  },
  {
   "cell_type": "markdown",
   "metadata": {},
   "source": [
    "To modify an variable's type, change it's properties. This will not affect new objects of the original type.\n",
    "\n",
    "To modify a type directly, modify the properties on the type, not the variable."
   ]
  },
  {
   "cell_type": "code",
   "execution_count": null,
   "metadata": {},
   "outputs": [],
   "source": [
    "obj v =                 # Declare a variable\n",
    "type(v)                 #> obj; The variable is of type :obj;\n",
    "\n",
    "v.prop = \"abc\"          # Add a property to the variable\n",
    "type(v)                 #> $v; The variable is now a new type\n",
    "\n",
    "obj v2 =                # Declare a new variable of the same original type\n",
    "v2.prop                 #! UndefinedError: obj.prop has not been defined; The *base type* has not been modified to include the new property\n",
    "\n",
    "\n",
    "type(v).prop            #> abc; The type *of the variable* has been modified to include the new property\n",
    "\n",
    "type(v).prop2 = \"def\"   # Add another property, this time to the *type*, not the variable\n",
    "type(newType)           #> $newType; The type was modified, but a new type was not created\n",
    "\n",
    "type(v) v3 =            # Create a new variable of type :$v; (the modified type of the original variable)\n",
    "v3.prop2                #> def; This new variable now has the new property, as the type was modified"
   ]
  },
  {
   "cell_type": "markdown",
   "metadata": {},
   "source": [
    "## Creating Types/Classes"
   ]
  },
  {
   "cell_type": "markdown",
   "metadata": {},
   "source": [
    "As seen above, to create a class or type (exclusively called a type in Lang3), you must create a variable and modify it's properties. You can then use it's type (as given by the `type()` function) as a type like any other."
   ]
  },
  {
   "cell_type": "code",
   "execution_count": null,
   "metadata": {},
   "outputs": [],
   "source": [
    "obj newVar =            # Declare a variable of the base :obj; type with no value\n",
    "type(newVar)            #: obj ; The type of the variable is :obj;\n",
    "\n",
    "newVar.prop = 1         # Add a property to the variable\n",
    "type(newVar)            #> $newVar; The type is no longer :obj;\n",
    "\n",
    "newType = type(newVar)  # Assign the type of the variable to a new variable\n",
    "\n",
    "newType o =             # You can now use the new type!\n",
    "io.out(o.prop)          #> 1"
   ]
  },
  {
   "cell_type": "markdown",
   "metadata": {},
   "source": [
    "To avoid the need to assign the type of the modified variable to another variable, Lang3 has syntactic sugar that allows you to modify a type directly. Put a dollar sign `$` in front of a variable when declaring it in order to directly declare and modify it as a type:"
   ]
  },
  {
   "cell_type": "code",
   "execution_count": null,
   "metadata": {},
   "outputs": [],
   "source": [
    "obj newType =           # Declare a variable, with the base type :obj; and no value\n",
    "$newType.prop = 1       # Add a property directly to the variable's type\n",
    "\n",
    "newType o =             # You can use the variable directly as a type for creating new objects/variables\n",
    "o.prop                  #> 1"
   ]
  },
  {
   "cell_type": "markdown",
   "metadata": {},
   "source": [
    "The above code is equivalent to:"
   ]
  },
  {
   "cell_type": "code",
   "execution_count": null,
   "metadata": {},
   "outputs": [],
   "source": [
    "obj newType =\n",
    "type(newType).prop = 1\n",
    "newType = type(newType)\n",
    "\n",
    "newType o =\n",
    "o.prop"
   ]
  },
  {
   "cell_type": "markdown",
   "metadata": {},
   "source": [
    "In many languages, if you create an object from a given class, its value will be the object itself:\n",
    "```py\n",
    "class A:            # Create a class/type\n",
    "    prop = \"abc\"    # Add a property to that class/type\n",
    "\n",
    "a = A()             # Create an object of that type\n",
    "print(a)            # <__main__.A object at 0x000001A2BC487550> - Accessing the object returns the object reference\n",
    "print(a.prop)       # \"abc\" - You can use the object to access its properties\n",
    "```\n",
    "\n",
    "However, in Lang3, every object has a root value in addition to the properties of an object:"
   ]
  },
  {
   "cell_type": "code",
   "execution_count": null,
   "metadata": {},
   "outputs": [],
   "source": [
    "A =                 # Declare a variable\n",
    "A.prop = \"abc\"      # Add a property to that variable\n",
    "\n",
    "A a = 1             # Create an object of that type, with a root value of :1;\n",
    "io.out(a)           #> 1; Accessing the object returns the value of the object\n",
    "io.out(a.prop)      #> abc; You can use the object to access its properties"
   ]
  },
  {
   "cell_type": "markdown",
   "metadata": {},
   "source": [
    "### Type Modification Behavior"
   ]
  },
  {
   "cell_type": "markdown",
   "metadata": {},
   "source": [
    "Any object (called the template object when used as a type) can be used as a type, and the new object (the target object) created of that type will inherit the children of the template object:"
   ]
  },
  {
   "cell_type": "code",
   "execution_count": null,
   "metadata": {},
   "outputs": [],
   "source": [
    "int target =            # Declare a new variable with an explicit type and no value\n",
    "type(target)            #: int\n",
    "target.prop =           # Adding a property (in this case with no value) makes it different than the original type\n",
    "newType = type(target)  # Assign the new type to a variable\n",
    "\n",
    "target t = 1            # Create an object of the new type"
   ]
  },
  {
   "cell_type": "markdown",
   "metadata": {},
   "source": [
    "If an variable of an existing type with it's children unchanged is used as a type, the target variable uses the original existing type:"
   ]
  },
  {
   "cell_type": "code",
   "execution_count": null,
   "metadata": {},
   "outputs": [],
   "source": [
    "int newType =\n",
    "type($newType)      #: int      ; int is an existing type\n",
    "$newType x =\n",
    "type($x)            #: int      ; Since :newType; didn't modify the children of int in any way, it did not create a new type"
   ]
  },
  {
   "cell_type": "markdown",
   "metadata": {},
   "source": [
    "If a type is changed twice identically, it still creates new types for both:"
   ]
  },
  {
   "cell_type": "code",
   "execution_count": null,
   "metadata": {},
   "outputs": [],
   "source": [
    "# Modify the :int; type once\n",
    "int type1 = \n",
    "$type1.prop = \"abc\"\n",
    "type($type1)                    #: type1    ; a new type is created\n",
    "\n",
    "# Modify the :int; type again identically\n",
    "int type2 = \n",
    "$type2.prop = \"abc\"\n",
    "type($type2)                    #: type2    ; a second new type is created\n",
    "\n",
    "type($type1) == type($type2)    #: true     ; the types are identical\n",
    "type($type1) is type($type2)    #: false    ; the types are not the same object"
   ]
  },
  {
   "cell_type": "markdown",
   "metadata": {},
   "source": [
    "Note that values cannot have their types modified:"
   ]
  },
  {
   "cell_type": "code",
   "execution_count": null,
   "metadata": {},
   "outputs": [],
   "source": [
    "loop newType = 1\n",
    "\n",
    "type(newType)           #: int\n",
    "newType.prop = \"abc\"    #! TypeError - The type of a variable's value cannot be modified (adding a property modifies the type)"
   ]
  },
  {
   "cell_type": "markdown",
   "metadata": {},
   "source": [
    "### Traditional Class Behavior"
   ]
  },
  {
   "cell_type": "markdown",
   "metadata": {},
   "source": [
    "##### Instantiation (as seen above):"
   ]
  },
  {
   "cell_type": "code",
   "execution_count": null,
   "metadata": {},
   "outputs": [],
   "source": [
    "a1 = A(1)\n",
    "a2 = A(2)"
   ]
  },
  {
   "cell_type": "markdown",
   "metadata": {},
   "source": [
    "##### Inheritance:"
   ]
  },
  {
   "cell_type": "code",
   "execution_count": null,
   "metadata": {},
   "outputs": [],
   "source": [
    "A B =           # Declare a new variable of type :A;\n",
    "B.addThree =    # Add a new child to the variable, creating a new type that inherits all the properties and methods of the previous type"
   ]
  },
  {
   "cell_type": "markdown",
   "metadata": {},
   "source": [
    "##### Abstraction (Protected children):"
   ]
  },
  {
   "cell_type": "code",
   "execution_count": null,
   "metadata": {},
   "outputs": [],
   "source": [
    "A.prop1 =                       # :A.prop1; can be accessed and modified from anywhere\n",
    "private A.prop2 =               # :A.prop2; can only be accessed or modified within :A; or its children\n",
    "readonly A.prop3 =              # :A.prop3; cannot be modified after declaration, can be read or called from anywhere\n",
    "private readonly A.prop4 =      # :A.prop4; cannot be modified after declaration, can only be read or called within :A; or its children\n",
    "\n",
    "A =                             # :A; can be accessed outside from anywhere, and properties and methods can be added or deleted\n",
    "hidden A =                      # :A; can only be accessed from itself or its children, and appears undefined otherwise\n",
    "locked A =                      # :A; can be accessed from anywhere, but properties and methods cannot be added or deleted\n",
    "hidden locked A =               # :A; can only be accessed from itself or its own children, and properties and methods cannot be added or deleted"
   ]
  },
  {
   "cell_type": "markdown",
   "metadata": {},
   "source": [
    "> Note that `private` and `hidden` are similar in that they have the same effect on a variable's value or a variables's object reference respectively, and same goes for `readonly` and `locked`"
   ]
  },
  {
   "cell_type": "markdown",
   "metadata": {},
   "source": [
    "##### Polymorphism:"
   ]
  },
  {
   "cell_type": "code",
   "execution_count": null,
   "metadata": {},
   "outputs": [],
   "source": []
  },
  {
   "cell_type": "markdown",
   "metadata": {},
   "source": [
    "# Operators"
   ]
  },
  {
   "cell_type": "markdown",
   "metadata": {},
   "source": [
    "## Computational Operators"
   ]
  },
  {
   "cell_type": "markdown",
   "metadata": {},
   "source": [
    "## Comparison Operators"
   ]
  },
  {
   "cell_type": "markdown",
   "metadata": {},
   "source": [
    "All like comparison operators are chainable (ex. `1 < 2 < 3 < 4` is valid).\n",
    "This is accomplished through a property on the objects outputted from comparison operators. The `bool`s outputted are technically of type `compBool`, a subtype of `bool`, and differ from the standard `bool` type in that they have a properties `.lhs` and `.rhs` that return the left and right values passed to the operator. If the next comparison operator receives a `true` `compBool` on the left, it will compare the `.rhs` property of it's left argument with its right argument. If it receives a `false` value, it returns `false`.\n",
    "\n",
    "Example:"
   ]
  },
  {
   "cell_type": "code",
   "execution_count": null,
   "metadata": {},
   "outputs": [],
   "source": [
    "1 < 2 < 3 < 4 < 5       #: true ; This is equivalent to :(1 < 2) && (2 < 3) && (3 < 4) && (4 < 5);, and is implemented as :(((1 < 2).rhs < 3).rhs < 4).rhs < 5;\n",
    "c = 1 < 2               #: true ;\n",
    "type(c)                 #: compBool ; The result of a comparison is a :compBool; object\n",
    "c.rhs                   #: 2 ;"
   ]
  },
  {
   "cell_type": "markdown",
   "metadata": {},
   "source": [
    "## Other Operators"
   ]
  },
  {
   "cell_type": "markdown",
   "metadata": {},
   "source": [
    "### Expansion/Condensation"
   ]
  }
 ],
 "metadata": {
  "kernelspec": {
   "display_name": "EchoLang3",
   "language": "lang3",
   "name": "echolang3"
  },
  "language_info": {
   "name": "lang3",
   "version": "3.11.8"
  }
 },
 "nbformat": 4,
 "nbformat_minor": 2
}
