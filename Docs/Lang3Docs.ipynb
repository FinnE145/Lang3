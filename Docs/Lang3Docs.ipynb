{
 "cells": [
  {
   "cell_type": "markdown",
   "metadata": {},
   "source": [
    "# Lang 3 Docs"
   ]
  },
  {
   "cell_type": "markdown",
   "metadata": {},
   "source": [
    "# Basics"
   ]
  },
  {
   "cell_type": "markdown",
   "metadata": {},
   "source": [
    "## Comments"
   ]
  },
  {
   "cell_type": "markdown",
   "metadata": {},
   "source": [
    "Comments are sections of code that do not run and have no functional effects.\n",
    "They are used for documentation, notes, and sometimes temporarily removing code from being run.\n",
    "\n",
    "In Lang3, line comments, or comments that continue to the end of the line, start with a single hashtag `#`.\n",
    "Block comments, or comments that can be multiple lines long and must be explicitly ended, start and end with multiple hashtags.\n",
    "\n",
    "Examples:"
   ]
  },
  {
   "cell_type": "code",
   "execution_count": null,
   "metadata": {},
   "outputs": [],
   "source": [
    "io.out(\"This is some valid code that will run\")\n",
    "# This is a comment, it does nothing\n",
    "io.out(\"Note that the comment above ends at the end of the line\")\n",
    "## This is a block comment\n",
    "It can be multiple lines long\n",
    "It must be ended with two or more hashes ##\n",
    "io.out(1 + 2 ## Note that block comments can be put in the middle of functional code ##+ 3)"
   ]
  },
  {
   "cell_type": "markdown",
   "metadata": {},
   "source": [
    "Lang3 comments have various stylistic options that do nothing, but can make code more clear and are reccomended for use. They include:\n",
    "- `>` after a comment hash denotes that the comment is expected output, up until a semicolon or another hash\n",
    "- Colons `:;` in a comment denote code, in the same way that backticks ` `` ` denote code in markdown\n",
    "- An exclamation mark `!` in a comment denotes an error, and a colon somewhere in the text following an exclamation mark will be ignored, up until a semicolon, newline, or hash\n",
    "\n",
    "Like many symbols in Lang3, special symbols in comments can be esacped with a backslash `\\` to ignore their significant meaning.\n",
    "\n",
    "Examples:"
   ]
  },
  {
   "cell_type": "code",
   "execution_count": null,
   "metadata": {},
   "outputs": [],
   "source": [
    "1 + 2       #> 3; Until the semicolon, this comment showed the output of this line\n",
    "int x = 1   # This line demonstrates code in comments by assigning the value :1; to the variable :x;, with type :int;\n",
    "\"abc\" + 1   #! TypeError: cannot add objects of type 'str' and 'int'; Before the semicolon, this comment showed an error and error message\n",
    "#\\! This is not an error, just a random exclamation mark in a comment"
   ]
  },
  {
   "cell_type": "markdown",
   "metadata": {},
   "source": [
    "## Output (Printing to Console)"
   ]
  },
  {
   "cell_type": "markdown",
   "metadata": {},
   "source": [
    "Values can be shown in the console with the `io.out` function. This means that `out` is a method of the `io` module (learn more about modules at the top of `Modules` and learn about the `io` module under `Modules > IO`)."
   ]
  },
  {
   "cell_type": "code",
   "execution_count": null,
   "metadata": {},
   "outputs": [],
   "source": [
    "io.out(\"Hello world\")   # Print \"Hello world\" to the console\n",
    "io.out(1)               # Print :1; to the console"
   ]
  },
  {
   "cell_type": "markdown",
   "metadata": {},
   "source": [
    "By default, outputting multiple objects will show them seperated by spaces. You can change this by explicitly passing a string to the `sep` parameter."
   ]
  },
  {
   "cell_type": "code",
   "execution_count": null,
   "metadata": {},
   "outputs": [],
   "source": [
    "io.out(1, 2, 3)             #> 1, 2, 3\n",
    "io.out(1, 2, 3, sep=\"|\")    #> 1|2|3"
   ]
  },
  {
   "cell_type": "markdown",
   "metadata": {},
   "source": [
    "By default, outputting ends with a new line. You can change this by explicitly passing a string to the `end` parameter"
   ]
  },
  {
   "cell_type": "code",
   "execution_count": null,
   "metadata": {},
   "outputs": [],
   "source": [
    "io.out(1, 2, 3)\n",
    "io.out(4, 5, 6)\n",
    "##>\n",
    "1 2 3\n",
    "4 5 6\n",
    "##\n",
    "\n",
    "io.out(1, 2, 3, end=\"|\")\n",
    "io.out(4, 5, 6)\n",
    "##>\n",
    "1 2 3|4 5 6\n",
    "##"
   ]
  },
  {
   "cell_type": "markdown",
   "metadata": {},
   "source": [
    "For more information on outputting and the `io.out` function, look at `Modules > IO > Methods > out`"
   ]
  },
  {
   "cell_type": "markdown",
   "metadata": {},
   "source": [
    "## Variables"
   ]
  },
  {
   "cell_type": "markdown",
   "metadata": {},
   "source": [
    "A variable is an identifier given to a particular value. In Lang3, variables can also have properties and act as larger objects (For more information, see `Objects`).\n",
    "\n",
    "Declaring a variable consists of specifying a data type, name, and an optional value.\n",
    "Lang3 may be able to infer the type if the variable is assigned in the same line as it is declared.\n",
    "\n",
    "Examples:"
   ]
  },
  {
   "cell_type": "code",
   "execution_count": null,
   "metadata": {},
   "outputs": [],
   "source": [
    "int w = 1       # A variable is declared and assigned with a type, name, and value\n",
    "\n",
    "int x =         # This variable has been declared, but by not specifying a value it is not assigned\n",
    "int x = ?       # Declaration without assignment can also be done with the \"blank\" symbol. You can find out more about it in the `Symbols` section\n",
    "io.out(x)       #! ValueError: x does not have a value; A variable declared but not assigned cannot have its value accessed\n",
    "\n",
    "y = 2           # This variable does not have a type explicitly specified because it can be inferred from the value\n",
    "type(y)         #: int\n",
    "\n",
    "z = y           # This variable also does not have a type explicitly specified, but can infer from y's type"
   ]
  },
  {
   "cell_type": "markdown",
   "metadata": {},
   "source": [
    "Using a variable is as easy as writing it's name in an expression.\n",
    "\n",
    "Examples:"
   ]
  },
  {
   "cell_type": "code",
   "execution_count": null,
   "metadata": {},
   "outputs": [],
   "source": [
    "int a = 1\n",
    "int b = 2\n",
    "\n",
    "io.out(a + 1)   #: 2\n",
    "io.out(a + b)   #: 3\n",
    "\n",
    "int c = i + 1   #! UndefinedError: :i; has not been declared"
   ]
  },
  {
   "cell_type": "markdown",
   "metadata": {},
   "source": [
    "## Code Blocks and Functions"
   ]
  },
  {
   "cell_type": "markdown",
   "metadata": {},
   "source": [
    "### Code Blocks"
   ]
  },
  {
   "cell_type": "markdown",
   "metadata": {},
   "source": [
    "Code blocks are objects that hold other code. They are enclosed by colons `:;`.\n",
    "\n",
    "Examples:"
   ]
  },
  {
   "cell_type": "code",
   "execution_count": null,
   "metadata": {},
   "outputs": [],
   "source": [
    "code c1 = :io.out(\"This is in a code block\");\n",
    "\n",
    "code c2 = :\n",
    "    io.out(\"Code blocks can be multiline...\")\n",
    "    io.out(\"...and can contain multiple statements\")\n",
    ";\n",
    "\n",
    "code c3 = :\n",
    "    \"Code blocks can also contain\" + \"just an expression\"\n",
    ";\n",
    "\n",
    "code c4 = :\n",
    "    io.out(\"Note that this code will not be run, it is simply being assigned to a variable\")\n",
    ";"
   ]
  },
  {
   "cell_type": "markdown",
   "metadata": {},
   "source": [
    "### Functions"
   ]
  },
  {
   "cell_type": "markdown",
   "metadata": {},
   "source": [
    "Functions are a concept in many languages, where code can be assigned a name and run multiple times, with different values assigned to variables in the code called parameters. In Lang3, functions consist of a code block that can be \"called\", optionally with arguments passed to parameters.\n",
    "\n",
    "To call a code block/function, add parenteses `()` after the code block or a `code` type variable, with optional argument values inside.\n",
    "\n",
    "Examples:"
   ]
  },
  {
   "cell_type": "code",
   "execution_count": null,
   "metadata": {},
   "outputs": [],
   "source": [
    ": io.out(\"This code block is being run directly\") ;()     #> This code block is being run directly\n",
    "#> This code block is being run directly\n",
    "\n",
    "code f = :\n",
    "    io.out(\"This is a function\").\n",
    "    io.out(\"It will not be run immediately, but can be called later\")\n",
    ";\n",
    "\n",
    "f()         # This calls the function\n",
    "##>\n",
    "This is a function\n",
    "It will not be run immediately, but can be called later\n",
    "##"
   ]
  },
  {
   "cell_type": "markdown",
   "metadata": {},
   "source": [
    "#### Parameters and Arguments"
   ]
  },
  {
   "cell_type": "markdown",
   "metadata": {},
   "source": [
    "To assign parameter variables to a function, declare variables (without the equal sign) inside square brackets `[]` in front of the code block or `code` type variable. Those variables can then be used inside the code block.\n",
    "The desired value of parameter variables, called arguments, must be passed inside the parentheses when a function is called.\n",
    "\n",
    "Examples:"
   ]
  },
  {
   "cell_type": "code",
   "execution_count": null,
   "metadata": {},
   "outputs": [],
   "source": [
    "code printAValue = [x]:     # This parameter has no type, and will infer from what is passed\n",
    "    # This code block outputs the value of x\n",
    "    io.out(x)\n",
    ";\n",
    "\n",
    "printAValue(1)      #> 1\n",
    "\n",
    "code add = [num x, num y]:  # These parameters have types, and will only accept numbers\n",
    "    # This code block outputs the sum of x and y\n",
    "    io.out(x + y)\n",
    ";\n",
    "\n",
    "add(1, 2)           #> 3\n",
    "add(\"apple\", \"banana\")      #! TypeError: :x; must be an instance of num, not str\n",
    "\n",
    "[a, b]: a - b ;(3, 2)       #> 1; Code blocks can also be called directly with parameters and arguments\n",
    "\n",
    "code func = :\n",
    "    io.out(\"The value of a is: {a}\")\n",
    "    io.out(\"The value of b is: {b}\")\n",
    ";\n",
    "\n",
    "[str a, str b]func(\"apple\", \"banana\")   # Code blocks can have their parameters added after initial declaration\n",
    "\n",
    "code multiply = :\n",
    "    io.out(\"The product of a and b is: {a * b}\")\n",
    ";\n",
    "\n",
    "multiply = [num a, num b]multiply   # Code blocks can be reassigned to themselves with parameters\n",
    "\n",
    "multiply(2, 5)                      #> The product of a and b is: 10"
   ]
  },
  {
   "cell_type": "markdown",
   "metadata": {},
   "source": [
    "If parameters are not passed before the code block is called, an `UndefinedError` will occur. If the wrong number or type of arguments are passed, an `ArgumentError` will occur.\n",
    "\n",
    "Examples:"
   ]
  },
  {
   "cell_type": "code",
   "execution_count": null,
   "metadata": {},
   "outputs": [],
   "source": [
    "code add = :\n",
    "    io.out(x + y)\n",
    ";\n",
    "\n",
    "add(1, 2)       #! UndefinedError: :x; has not been declared\n",
    "add = [num x, num y]add\n",
    "add(1, 2)       #> 3\n",
    "\n",
    "add(1)          #! ArgumentError: :add; requires 2 arguments, but 1 was given\n",
    "add(1, 2, 3)    #! ArgumentError: :add; requires 2 arguments, but 3 were given"
   ]
  },
  {
   "cell_type": "markdown",
   "metadata": {},
   "source": [
    "#### Overloading"
   ]
  },
  {
   "cell_type": "markdown",
   "metadata": {},
   "source": [
    "Overloading is when the same function can have different parameters and code that runs. Different overloads for a function are generally supposed to accomplish the same thing and have the same return types, but can accept different parameters.\n",
    "\n",
    "In Lang3, functions are overloaded by creating a `sequence` of code blocks. When that sequence is called, the first code block with matching parameters is run. If no parameters match, an `ArgumentError` will be raised.\n",
    "\n",
    "> Note that if it were **not** a sequence of functions, a `TypeError` would be called if one or more of the arguments are of the wrong type, but the right number were passed. When a function is overloaded (a sequence of functions), arguments of the wrong type that do not match any parameters will raise an `ArgumentError`."
   ]
  },
  {
   "cell_type": "markdown",
   "metadata": {},
   "source": [
    "# Data Types"
   ]
  },
  {
   "cell_type": "markdown",
   "metadata": {},
   "source": [
    "Every data type has a singular and sequence form. The singular form contains one object of that data type, while sequences contain multiple objects of that data type. Sequences of a particular type may have methods and properties that differ from the singular data type, and may have different behaviours when used in an operator."
   ]
  },
  {
   "cell_type": "markdown",
   "metadata": {},
   "source": [
    "### Sequences\n",
    "\n",
    "> Lang3 `sequence`s are similar to what some other languages call `Array`s\n",
    "\n",
    "`sequence`s are special data types that can be created from any other data type. Sequence data types are specified with a singular type followed by square brackets `[]`. Inside the brackets is an optional number literal specifying the maximum number of objects in that sequence."
   ]
  },
  {
   "cell_type": "code",
   "execution_count": null,
   "metadata": {},
   "outputs": [],
   "source": [
    "num[]   # An unlimited-length sequence of :num; objects (for more information on :num;, see below)\n",
    "num[3]  # A sequence of up to 3 :num; objects"
   ]
  },
  {
   "cell_type": "markdown",
   "metadata": {},
   "source": [
    "## Builtin Data Types"
   ]
  },
  {
   "cell_type": "markdown",
   "metadata": {},
   "source": [
    "### Number (`num`)"
   ]
  },
  {
   "cell_type": "markdown",
   "metadata": {},
   "source": [
    "The `num` datatype represents both integer/whole numbers and decimals. It can be inferred from literals like `1`, `12.34` and `0.1`.\n",
    "\n",
    "#### Methods"
   ]
  },
  {
   "cell_type": "markdown",
   "metadata": {},
   "source": [
    "**`round` - Rounds to the nearest multiple of a number**\n",
    "\n",
    "> <u>Params</u>:\n",
    "> - `num n`: Round to the nearest multiple of this number\n",
    "> - `?str mode` [*OPTIONAL*]: The rounding mode to use. Possible values are:\n",
    ">   - `=\"nearest\"|\"n\"` [*DEFAULT*]: When the number is halfway between two multiples, round up if it's even and down if it's odd\n",
    ">   - `\"nearest-up\"|\"nu\"`: If the number is exactly halfway between two multiples, round up\n",
    ">   - `\"nearest-down\"|\"nd\"`: If the number is exactly halfway between two multiples, round down\n",
    ">   - `\"up\"|\"u\"`: Always round up\n",
    ">   - `\"down\"|\"d\"`: Always round down\n",
    ">\n",
    "> <u>Returns</u>:\n",
    "> - `num`: The rounded number\n",
    "\n",
    "Example usage:"
   ]
  },
  {
   "cell_type": "code",
   "execution_count": null,
   "metadata": {},
   "outputs": [],
   "source": [
    "(34).round(3)           #: 33 ; The closest multiple of 3 to 34 is 33\n",
    "(35).round(3)           #: 36 ; The closest multiple of 3 to 35 is 36\n",
    "(35).round(3, \"d\")      #: 33 ; Round down to 33 because of the rounding mode argument\n",
    "\n",
    "(1.2345).round(0.01)    #: 1.23\n",
    "(1.2345).round(0.05)    #: 1.2"
   ]
  },
  {
   "cell_type": "markdown",
   "metadata": {},
   "source": [
    "**`roundToPlaces` - Rounds to a certain number of decimal places**\n",
    "\n",
    "> <u>Params</u>:\n",
    "> - `num p`: Round to this many decimal places\n",
    "> - `?str mode` [*OPTIONAL*]: The rounding mode to use. Same possible values as `round`.\n",
    ">\n",
    "> <u>Returns</u>:\n",
    "> - `num`: The rounded number\n",
    "\n",
    "Example Usage:"
   ]
  },
  {
   "cell_type": "code",
   "execution_count": null,
   "metadata": {},
   "outputs": [],
   "source": [
    "(1.234).roundToPlaces(2)                    #: 1.23 ;\n",
    "(1.5).roundToPlaces(0)                      #: 1.0 ; Round down because .5 is halfway, and 1.5 is odd\n",
    "(1.55).roundToPlaces(1, \"nu\")               #: 1.6 ; Round up even though 1.55 is odd, due to the rounding mode argument"
   ]
  },
  {
   "cell_type": "markdown",
   "metadata": {},
   "source": [
    "# Objects"
   ]
  },
  {
   "cell_type": "markdown",
   "metadata": {},
   "source": [
    "## The Value-Object System"
   ]
  },
  {
   "cell_type": "markdown",
   "metadata": {},
   "source": [
    "All objects have an object type and a value:"
   ]
  },
  {
   "cell_type": "code",
   "execution_count": null,
   "metadata": {},
   "outputs": [],
   "source": [
    "o       # returns the object :o;'s value - in namy cases, this is the same as the object itself\n",
    "$o      # references the object - can be used to access methods, properties, pass the object as a whole, etc."
   ]
  },
  {
   "cell_type": "markdown",
   "metadata": {},
   "source": [
    "When a variable is declared in the default way, the object and value are the same:"
   ]
  },
  {
   "cell_type": "code",
   "execution_count": null,
   "metadata": {},
   "outputs": [],
   "source": [
    "x = 1\n",
    "x           #: 1\n",
    "$x          #: 1\n",
    "type(x)     #: int\n",
    "type($x)    #: int"
   ]
  },
  {
   "cell_type": "markdown",
   "metadata": {},
   "source": [
    "However, when a type is applied, the target value is assigned to the value of that object, and the object is of the type that was specified:"
   ]
  },
  {
   "cell_type": "code",
   "execution_count": null,
   "metadata": {},
   "outputs": [],
   "source": [
    "loop x = 1\n",
    "x           #: 1\n",
    "$x          #: <loop x>\n",
    "type(x)     #: int\n",
    "type($x)    #: loop"
   ]
  },
  {
   "cell_type": "markdown",
   "metadata": {},
   "source": [
    "In that case, calling methods or accessing properties on the variable will work with the value's children, and calling methods or accessing properties on the object reference will work with the object's children:"
   ]
  },
  {
   "cell_type": "code",
   "execution_count": null,
   "metadata": {},
   "outputs": [],
   "source": [
    "x.someIntProperty\n",
    "$x.someLoopProperty\n",
    "x.someIntMethod()\n",
    "$x.someLoopMethod()"
   ]
  },
  {
   "cell_type": "markdown",
   "metadata": {},
   "source": [
    "### Type Modification Behavior"
   ]
  },
  {
   "cell_type": "markdown",
   "metadata": {},
   "source": [
    "Any object (called the template object when used as a type) can be used as a type, and the new object (the target object) created of that type will inherit the children of the template object:"
   ]
  },
  {
   "cell_type": "code",
   "execution_count": null,
   "metadata": {},
   "outputs": [],
   "source": [
    "int newType =       # Declare a new variable with an explicit type and no value\n",
    "type($newType)      #: int\n",
    "$newType.prop =     # Adding a property (with no value) makes it different than the original type\n",
    "type($newType)      #: newType  ; New types are given the name of the variable they originated from"
   ]
  },
  {
   "cell_type": "markdown",
   "metadata": {},
   "source": [
    "If an variable of an existing type with it's children unchanged is used as a type, the target variable uses the original existing type:"
   ]
  },
  {
   "cell_type": "code",
   "execution_count": null,
   "metadata": {},
   "outputs": [],
   "source": [
    "int newType =\n",
    "type($newType)      #: int      ; int is an existing type\n",
    "$newType x =\n",
    "type($x)            #: int      ; Since :newType; didn't modify the children of int in any way, it did not create a new type"
   ]
  },
  {
   "cell_type": "markdown",
   "metadata": {},
   "source": [
    "If a type is changed twice identically, it still creates new types for both:"
   ]
  },
  {
   "cell_type": "code",
   "execution_count": null,
   "metadata": {},
   "outputs": [],
   "source": [
    "# Modify the :int; type once\n",
    "int type1 = \n",
    "$type1.prop = \"abc\"\n",
    "type($type1)                    #: type1    ; a new type is created\n",
    "\n",
    "# Modify the :int; type again identically\n",
    "int type2 = \n",
    "$type2.prop = \"abc\"\n",
    "type($type2)                    #: type2    ; a second new type is created\n",
    "\n",
    "type($type1) == type($type2)    #: true     ; the types are identical\n",
    "type($type1) is type($type2)    #: false    ; the types are not the same object"
   ]
  },
  {
   "cell_type": "markdown",
   "metadata": {},
   "source": [
    "Note that values cannot have their types modified:"
   ]
  },
  {
   "cell_type": "code",
   "execution_count": null,
   "metadata": {},
   "outputs": [],
   "source": [
    "loop newType = 1\n",
    "\n",
    "type(newType)           #: int\n",
    "newType.prop = \"abc\"    #! TypeError - The type of a variable's value cannot be modified (adding a property modifies the type)"
   ]
  }
 ],
 "metadata": {
  "kernelspec": {
   "display_name": "Lang3",
   "language": "lang3",
   "name": "lang3"
  },
  "language_info": {
   "name": "lang3",
   "version": "3.11.8"
  }
 },
 "nbformat": 4,
 "nbformat_minor": 2
}
