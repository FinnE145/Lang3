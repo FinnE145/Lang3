{
 "cells": [
  {
   "cell_type": "markdown",
   "metadata": {},
   "source": [
    "# Lang 3 Docs"
   ]
  },
  {
   "cell_type": "markdown",
   "metadata": {},
   "source": [
    "# Basics"
   ]
  },
  {
   "cell_type": "markdown",
   "metadata": {},
   "source": [
    "## Comments"
   ]
  },
  {
   "cell_type": "markdown",
   "metadata": {},
   "source": [
    "Comments are sections of code that do not run and have no functional effects.\n",
    "They are used for documentation, notes, and sometimes temporarily removing code from being run.\n",
    "\n",
    "In Lang3, line comments, or comments that continue to the end of the line, start with a single hashtag `#`.\n",
    "Block comments, or comments that can be multiple lines long and must be explicitly ended, start and end with multiple hashtags.\n",
    "\n",
    "Examples:"
   ]
  },
  {
   "cell_type": "code",
   "execution_count": null,
   "metadata": {},
   "outputs": [],
   "source": [
    "io.out(\"This is some valid code that will run\")\n",
    "# This is a comment, it does nothing\n",
    "io.out(\"Note that the comment above ends at the end of the line\")\n",
    "## This is a block comment\n",
    "It can be multiple lines long\n",
    "It must be ended with two or more hashes ##\n",
    "io.out(1 + 2 ## Note that block comments can be put in the middle of functional code ##+ 3)"
   ]
  },
  {
   "cell_type": "markdown",
   "metadata": {},
   "source": [
    "Lang3 comments have various stylistic options that do nothing, but can make code more clear and are reccomended for use. They include:\n",
    "- `>` after a comment hash denotes that the comment is expected output, up until a semicolon or another hash\n",
    "- Colons `:;` in a comment denote code, in the same way that backticks ` `` ` denote code in markdown\n",
    "- An exclamation mark `!` in a comment denotes an error, and a colon somewhere in the text following an exclamation mark will be ignored, up until a semicolon, newline, or hash\n",
    "\n",
    "Like many symbols in Lang3, special symbols in comments can be esacped with a backslash `\\` to ignore their significant meaning.\n",
    "\n",
    "Examples:"
   ]
  },
  {
   "cell_type": "code",
   "execution_count": null,
   "metadata": {},
   "outputs": [],
   "source": [
    "1 + 2       #> 3; Until the semicolon, this comment showed the output of this line\n",
    "int x = 1   # This line demonstrates code in comments by assigning the value :1; to the variable :x;, with type :int;\n",
    "\"abc\" + 1   #! TypeError: cannot add objects of type 'str' and 'int'; Before the semicolon, this comment showed an error and error message\n",
    "#\\! This is not an error, just a random exclamation mark in a comment"
   ]
  },
  {
   "cell_type": "markdown",
   "metadata": {},
   "source": [
    "## Output (Printing to Console)"
   ]
  },
  {
   "cell_type": "markdown",
   "metadata": {},
   "source": [
    "Values can be shown in the console with the `io.out` function. This means that `out` is a method of the `io` module (learn more about modules at the top of `Modules` and learn about the `io` module under `Modules > IO`)."
   ]
  },
  {
   "cell_type": "code",
   "execution_count": null,
   "metadata": {},
   "outputs": [],
   "source": [
    "io.out(\"Hello world\")   # Print \"Hello world\" to the console\n",
    "io.out(1)               # Print :1; to the console"
   ]
  },
  {
   "cell_type": "markdown",
   "metadata": {},
   "source": [
    "By default, outputting multiple objects will show them seperated by spaces. You can change this by explicitly passing a string to the `sep` parameter."
   ]
  },
  {
   "cell_type": "code",
   "execution_count": null,
   "metadata": {},
   "outputs": [],
   "source": [
    "io.out(1, 2, 3)             #> 1, 2, 3\n",
    "io.out(1, 2, 3, sep=\"|\")    #> 1|2|3"
   ]
  },
  {
   "cell_type": "markdown",
   "metadata": {},
   "source": [
    "By default, outputting ends with a new line. You can change this by explicitly passing a string to the `end` parameter"
   ]
  },
  {
   "cell_type": "code",
   "execution_count": null,
   "metadata": {},
   "outputs": [],
   "source": [
    "io.out(1, 2, 3)\n",
    "io.out(4, 5, 6)\n",
    "##>\n",
    "1 2 3\n",
    "4 5 6\n",
    "##\n",
    "\n",
    "io.out(1, 2, 3, end=\"|\")\n",
    "io.out(4, 5, 6)\n",
    "##>\n",
    "1 2 3|4 5 6\n",
    "##"
   ]
  },
  {
   "cell_type": "markdown",
   "metadata": {},
   "source": [
    "For more information on outputting and the `io.out` function, look at `Modules > IO > Methods > out`"
   ]
  },
  {
   "cell_type": "markdown",
   "metadata": {},
   "source": [
    "## Variables"
   ]
  },
  {
   "cell_type": "markdown",
   "metadata": {},
   "source": [
    "A variable is an identifier given to a particular value. In Lang3, variables can also have properties and act as larger objects (For more information, see `Objects`).\n",
    "\n",
    "Declaring a variable consists of specifying a data type, name, and an optional value.\n",
    "Lang3 may be able to infer the type if the variable is assigned in the same line as it is declared.\n",
    "\n",
    "Examples:"
   ]
  },
  {
   "cell_type": "code",
   "execution_count": null,
   "metadata": {},
   "outputs": [],
   "source": [
    "int w = 1       # A variable is declared and assigned with a type, name, and value\n",
    "\n",
    "int x =         # This variable has been declared, but by not specifying a value it is not assigned\n",
    "int x = ?       # Declaration without assignment can also be done with the \"blank\" symbol. You can find out more about it in the `Symbols` section\n",
    "io.out(x)       #! ValueError: x does not have a value; A variable declared but not assigned cannot have its value accessed\n",
    "\n",
    "y = 2           # This variable does not have a type explicitly specified because it can be inferred from the value\n",
    "type(y)         #: int\n",
    "\n",
    "z = y           # This variable also does not have a type explicitly specified, but can infer from y's type"
   ]
  },
  {
   "cell_type": "markdown",
   "metadata": {},
   "source": [
    "Using a variable is as easy as writing it's name in an expression.\n",
    "\n",
    "Examples:"
   ]
  },
  {
   "cell_type": "code",
   "execution_count": null,
   "metadata": {},
   "outputs": [],
   "source": [
    "int a = 1\n",
    "int b = 2\n",
    "\n",
    "io.out(a + 1)   #: 2\n",
    "io.out(a + b)   #: 3\n",
    "\n",
    "int c = i + 1   #! UndefinedError: :i; has not been declared"
   ]
  },
  {
   "cell_type": "markdown",
   "metadata": {},
   "source": [
    "## Code Blocks and Functions"
   ]
  },
  {
   "cell_type": "markdown",
   "metadata": {},
   "source": [
    "### Code Blocks"
   ]
  },
  {
   "cell_type": "markdown",
   "metadata": {},
   "source": [
    "Code blocks are objects that hold other code. They are enclosed by colons `:;`.\n",
    "\n",
    "Examples:"
   ]
  },
  {
   "cell_type": "code",
   "execution_count": null,
   "metadata": {},
   "outputs": [],
   "source": [
    "code c1 = :io.out(\"This is in a code block\");\n",
    "\n",
    "code c2 = :\n",
    "    io.out(\"Code blocks can be multiline...\")\n",
    "    io.out(\"...and can contain multiple statements\")\n",
    ";\n",
    "\n",
    "code c3 = :\n",
    "    \"Code blocks can also contain\" + \"just an expression\"\n",
    ";\n",
    "\n",
    "code c4 = :\n",
    "    io.out(\"Note that this code will not be run, it is simply being assigned to a variable\")\n",
    ";"
   ]
  },
  {
   "cell_type": "markdown",
   "metadata": {},
   "source": [
    "### Functions"
   ]
  },
  {
   "cell_type": "markdown",
   "metadata": {},
   "source": [
    "Functions are a concept in many languages, where code can be assigned a name and run multiple times, with different values assigned to variables in the code called parameters. In Lang3, functions consist of a code block that can be \"called\", optionally with arguments passed to parameters.\n",
    "\n",
    "To call a code block/function, add parenteses `()` after the code block or a `code` type variable, with optional argument values inside. To assign parameters variables, declare variables (without the type) inside square brackets in front of the code block or `code` type variable.\n",
    "\n",
    "Examples:"
   ]
  },
  {
   "cell_type": "code",
   "execution_count": null,
   "metadata": {},
   "outputs": [],
   "source": [
    ":io.out(\"This code block is being run directly\");()     #> This code block is being run directly\n",
    "\n",
    "code f = :\n",
    "    io.out(\"This is a function\").\n",
    "    io.out(\"It will not be run immediately, but can be called later\")\n",
    ";\n",
    "\n",
    "f()         # This calls the function\n",
    "##>\n",
    "This is a function\n",
    "It will not be run immediately, but can be called later\n",
    "##"
   ]
  },
  {
   "cell_type": "markdown",
   "metadata": {},
   "source": [
    "# Data Types"
   ]
  },
  {
   "cell_type": "markdown",
   "metadata": {},
   "source": [
    "Every data type has a singular and sequence form. The singular form contains one object of that data type, while sequences contain multiple objects of that data type. Sequences of a particular type may have methods and properties that differ from the singular data type, and may have different behaviours when used in an operator."
   ]
  },
  {
   "cell_type": "markdown",
   "metadata": {},
   "source": [
    "### Sequences\n",
    "\n",
    "> Lang3 `sequence`s are similar to what some other languages call `Array`s\n",
    "\n",
    "`sequence`s are special data types that can be created from any other data type. Sequence data types are specified with a singular type followed by square brackets `[]`. Inside the brackets is an optional number literal specifying the maximum number of objects in that sequence."
   ]
  },
  {
   "cell_type": "code",
   "execution_count": null,
   "metadata": {},
   "outputs": [],
   "source": [
    "num[]   # An unlimited-length sequence of :num; objects (for more information on :num;, see below)\n",
    "num[3]  # A sequence of up to 3 :num; objects"
   ]
  },
  {
   "cell_type": "markdown",
   "metadata": {},
   "source": [
    "## Builtin Data Types"
   ]
  },
  {
   "cell_type": "markdown",
   "metadata": {},
   "source": [
    "### Number (`num`)"
   ]
  },
  {
   "cell_type": "markdown",
   "metadata": {},
   "source": [
    "The `num` datatype represents both integer/whole numbers and decimals. It can be inferred from literals like `1`, `12.34` and `0.1`.\n",
    "\n",
    "#### Methods"
   ]
  },
  {
   "cell_type": "markdown",
   "metadata": {},
   "source": [
    "**`round` - Rounds to the nearest multiple of a number**\n",
    "\n",
    "> <u>Params</u>:\n",
    "> - `num n`: Round to the nearest multiple of this number\n",
    "> - `?str mode` [*OPTIONAL*]: The rounding mode to use. Possible values are:\n",
    ">   - `=\"nearest\"|\"n\"` [*DEFAULT*]: When the number is halfway between two multiples, round up if it's even and down if it's odd\n",
    ">   - `\"nearest-up\"|\"nu\"`: If the number is exactly halfway between two multiples, round up\n",
    ">   - `\"nearest-down\"|\"nd\"`: If the number is exactly halfway between two multiples, round down\n",
    ">   - `\"up\"|\"u\"`: Always round up\n",
    ">   - `\"down\"|\"d\"`: Always round down\n",
    ">\n",
    "> <u>Returns</u>:\n",
    "> - `num`: The rounded number\n",
    "\n",
    "Example usage:"
   ]
  },
  {
   "cell_type": "code",
   "execution_count": null,
   "metadata": {},
   "outputs": [],
   "source": [
    "(34).round(3)           #: 33 ; The closest multiple of 3 to 34 is 33\n",
    "(35).round(3)           #: 36 ; The closest multiple of 3 to 35 is 36\n",
    "(35).round(3, \"d\")      #: 33 ; Round down to 33 because of the rounding mode argument\n",
    "\n",
    "(1.2345).round(0.01)    #: 1.23\n",
    "(1.2345).round(0.05)    #: 1.2"
   ]
  },
  {
   "cell_type": "markdown",
   "metadata": {},
   "source": [
    "**`roundToPlaces` - Rounds to a certain number of decimal places**\n",
    "\n",
    "> <u>Params</u>:\n",
    "> - `num p`: Round to this many decimal places\n",
    "> - `?str mode` [*OPTIONAL*]: The rounding mode to use. Same possible values as `round`.\n",
    ">\n",
    "> <u>Returns</u>:\n",
    "> - `num`: The rounded number\n",
    "\n",
    "Example Usage:"
   ]
  },
  {
   "cell_type": "code",
   "execution_count": null,
   "metadata": {},
   "outputs": [],
   "source": [
    "(1.234).roundToPlaces(2)                    #: 1.23 ;\n",
    "(1.5).roundToPlaces(0)                      #: 1.0 ; Round down because .5 is halfway, and 1.5 is odd\n",
    "(1.55).roundToPlaces(1, \"nu\")               #: 1.6 ; Round up even though 1.55 is odd, due to the rounding mode argument"
   ]
  },
  {
   "cell_type": "markdown",
   "metadata": {},
   "source": [
    "# Objects"
   ]
  },
  {
   "cell_type": "markdown",
   "metadata": {},
   "source": [
    "## The Value-Object System"
   ]
  },
  {
   "cell_type": "markdown",
   "metadata": {},
   "source": [
    "All objects have an object type and a value:"
   ]
  },
  {
   "cell_type": "code",
   "execution_count": null,
   "metadata": {},
   "outputs": [],
   "source": [
    "o       # returns the object :o;'s value - in namy cases, this is the same as the object itself\n",
    "$o      # references the object - can be used to access methods, properties, pass the object as a whole, etc."
   ]
  },
  {
   "cell_type": "markdown",
   "metadata": {},
   "source": [
    "When a variable is declared in the default way, the object and value are the same:"
   ]
  },
  {
   "cell_type": "code",
   "execution_count": null,
   "metadata": {},
   "outputs": [],
   "source": [
    "x = 1\n",
    "x           #: 1\n",
    "$x          #: 1\n",
    "type(x)     #: int\n",
    "type($x)    #: int"
   ]
  },
  {
   "cell_type": "markdown",
   "metadata": {},
   "source": [
    "However, when a type is applied, the target value is assigned to the value of that object, and the object is of the type that was specified:"
   ]
  },
  {
   "cell_type": "code",
   "execution_count": null,
   "metadata": {},
   "outputs": [],
   "source": [
    "loop x = 1\n",
    "x           #: 1\n",
    "$x          #: <loop x>\n",
    "type(x)     #: int\n",
    "type($x)    #: loop"
   ]
  },
  {
   "cell_type": "markdown",
   "metadata": {},
   "source": [
    "In that case, calling methods or accessing properties on the variable will work with the value's children, and calling methods or accessing properties on the object reference will work with the object's children:"
   ]
  },
  {
   "cell_type": "code",
   "execution_count": null,
   "metadata": {},
   "outputs": [],
   "source": [
    "x.someIntProperty\n",
    "$x.someLoopProperty\n",
    "x.someIntMethod()\n",
    "$x.someLoopMethod()"
   ]
  }
 ],
 "metadata": {
  "kernelspec": {
   "display_name": "Lang3",
   "language": "lang3",
   "name": "lang3"
  },
  "language_info": {
   "name": "lang3",
   "version": "3.11.8"
  }
 },
 "nbformat": 4,
 "nbformat_minor": 2
}
