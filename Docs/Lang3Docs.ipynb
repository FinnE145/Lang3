{
 "cells": [
  {
   "cell_type": "markdown",
   "metadata": {},
   "source": [
    "# Lang 3 Docs"
   ]
  },
  {
   "cell_type": "markdown",
   "metadata": {},
   "source": [
    "# Data Types"
   ]
  },
  {
   "cell_type": "markdown",
   "metadata": {},
   "source": [
    "Every data type has a singular and sequence form. The singular form contains one object of that data type, while sequences contain multiple objects of that data type. Sequences of a particular type may have methods and properties that differ from the singular data type, and may have different behaviours when used in an operator."
   ]
  },
  {
   "cell_type": "markdown",
   "metadata": {},
   "source": [
    "### Sequences\n",
    "\n",
    "> Lang3 `sequence`s are similar to what some other languages call `Array`s\n",
    "\n",
    "`sequence`s are special data types that can be created from any other data type. Sequence data types are specified with a singular type followed by square brackets `[]`. Inside the brackets is an optional number literal specifying the maximum number of objects in that sequence."
   ]
  },
  {
   "cell_type": "code",
   "execution_count": null,
   "metadata": {},
   "outputs": [],
   "source": [
    "num[]   # An unlimited-length sequence of :num; objects (for more information on :num;, see below)\n",
    "num[3]  # A sequence of up to 3 :num; objects"
   ]
  },
  {
   "cell_type": "markdown",
   "metadata": {},
   "source": [
    "## Builtin Data Types"
   ]
  },
  {
   "cell_type": "markdown",
   "metadata": {},
   "source": [
    "### Number (`num`)"
   ]
  },
  {
   "cell_type": "markdown",
   "metadata": {},
   "source": [
    "The `num` datatype represents both integer/whole numbers and decimals. It can be inferred from literals like `1`, `12.34` and `0.1`.\n",
    "\n",
    "<u>Methods</u>:"
   ]
  },
  {
   "cell_type": "code",
   "execution_count": null,
   "metadata": {},
   "outputs": [],
   "source": [
    "num round = [num n, ?str mode]:\n",
    " ## [n] - Round the number to the nearest multiple of :n;\n",
    "    [?mode] - The rounding mode to use. Possible values are:\n",
    "        =\"nearest\"|\"n\" - Round to the nearest multiple of :n;. If the number is exactly halfway between two multiples, round up if it's even and down if it's odd.\n",
    "        =\"nearest-up\"|\"nu\" - Round to the nearest multiple of :n;. If the number is exactly halfway between two multiples, round up.\n",
    "        =\"nearest-down\"|\"nd\" - Round to the nearest multiple of :n;. If the number is exactly halfway between two multiples, round down.\n",
    "        =\"up\"|\"u\" - Always round up to the nearest multiple of :n;\n",
    "        =\"down\"|\"d\" - Always round down to the nearest multiple of :n;\n",
    " ##\n",
    ";\n",
    "\n",
    "num roundToPlaces = [num d, ?str mode]:\n",
    " ## [d] - Round the number to :p; decimal digits. Negative numbers round to the nearest power of 10.\n",
    "    [?mode] - The rounding mode to use. Possible values are:\n",
    "        =\"nearest\"|\"n\" - If the number is exactly halfway between two multiples, round to the nearest even number.\n",
    "        =\"nearest-up\"|\"nu\" - If the number is exactly halfway between two multiples, round up.\n",
    "        =\"nearest-down\"|\"nd\" - If the number is exactly halfway between two multiples, round down.\n",
    "        =\"up\"|\"u\" - Always round up\n",
    "        =\"down\"|\"d\" - Always round down\n",
    " ##\n",
    ";\n",
    "\n",
    "num roundToSig = [num f, ?str mode]:\n",
    "    # [f] - Round the number to :f; significant figures.\n",
    ";"
   ]
  }
 ],
 "metadata": {
  "kernelspec": {
   "display_name": "echotest",
   "language": "lang3",
   "name": "echotest"
  },
  "language_info": {
   "name": "lang3"
  }
 },
 "nbformat": 4,
 "nbformat_minor": 2
}
